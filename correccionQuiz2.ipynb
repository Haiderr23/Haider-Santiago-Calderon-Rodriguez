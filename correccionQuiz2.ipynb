{
  "nbformat": 4,
  "nbformat_minor": 0,
  "metadata": {
    "colab": {
      "provenance": [],
      "authorship_tag": "ABX9TyMH/NgrpVpm0plG4kHYT94d",
      "include_colab_link": true
    },
    "kernelspec": {
      "name": "python3",
      "display_name": "Python 3"
    },
    "language_info": {
      "name": "python"
    }
  },
  "cells": [
    {
      "cell_type": "markdown",
      "metadata": {
        "id": "view-in-github",
        "colab_type": "text"
      },
      "source": [
        "<a href=\"https://colab.research.google.com/github/Haiderr23/Haider-Santiago-Calderon-Rodriguez/blob/main/correccionQuiz2.ipynb\" target=\"_parent\"><img src=\"https://colab.research.google.com/assets/colab-badge.svg\" alt=\"Open In Colab\"/></a>"
      ]
    },
    {
      "cell_type": "code",
      "execution_count": 5,
      "metadata": {
        "colab": {
          "base_uri": "https://localhost:8080/"
        },
        "id": "QsoDn46EfwYb",
        "outputId": "dec72b4d-a185-400b-93df-14d53b22cd02"
      },
      "outputs": [
        {
          "output_type": "stream",
          "name": "stdout",
          "text": [
            "El resultado de la multiplicación en forma de lista es:\n",
            "[19, 22]\n",
            "[43, 50]\n"
          ]
        }
      ],
      "source": [
        "class Matrix:\n",
        "    def __init__(self, data, m, n):\n",
        "        self.data = data\n",
        "        self.m = m\n",
        "        self.n = n\n",
        "\n",
        "    def getelem(self, i, j):\n",
        "        return self.data[i][j]\n",
        "\n",
        "    def mat_mul(self, B):\n",
        "        if self.n != B.m:\n",
        "            raise ValueError(\"El número de columnas en A debe ser igual al número de filas en B\")\n",
        "\n",
        "        result = [[0 for _ in range(B.n)] for _ in range(self.m)]\n",
        "        i = 0\n",
        "        while i < self.m:\n",
        "            j = 0\n",
        "            while j < B.n:\n",
        "                k = 0\n",
        "                while k < self.n:\n",
        "                    result[i][j] += self.getelem(i, k) * B.getelem(k, j)\n",
        "                    k += 1\n",
        "                j += 1\n",
        "            i += 1\n",
        "\n",
        "        return Matrix(result, self.m, B.n)\n",
        "\n",
        "# Definir las matrices self y B\n",
        "self_data = [[1, 2],\n",
        "             [3, 4]]\n",
        "self_matrix = Matrix(self_data, 2, 2)\n",
        "\n",
        "B_data = [[5, 6],\n",
        "          [7, 8]]\n",
        "B_matrix = Matrix(B_data, 2, 2)\n",
        "\n",
        "# Multiplicar las matrices usando el método matmul creado\n",
        "Matriz_Resultante = self_matrix.mat_mul(B_matrix)\n",
        "\n",
        "# Imprimir el resultado\n",
        "print(\"El resultado de la multiplicación de matrices es:\")\n",
        "for row in Matriz_Resultante.data:\n",
        "    print(row)\n",
        "\n"
      ]
    }
  ]
}