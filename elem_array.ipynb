{
  "nbformat": 4,
  "nbformat_minor": 0,
  "metadata": {
    "colab": {
      "provenance": []
    },
    "kernelspec": {
      "name": "python3",
      "display_name": "Python 3"
    },
    "language_info": {
      "name": "python"
    }
  },
  "cells": [
    {
      "cell_type": "code",
      "source": [
        "from array import array\n",
        "\n",
        "def elem(A, i, j):\n",
        "    \"\"\"\n",
        "    Obtener el elemento i,j del array A como si fuera una matriz de 3x3\n",
        "    \"\"\"\n",
        "    # Definir las dimensiones de la \"matriz\" de 3x3\n",
        "    rows = 3\n",
        "    cols = 3\n",
        "    # Ajustar las coordenadas para que coincidan con la convención de índices de matriz\n",
        "    i -= 1\n",
        "    j -= 1\n",
        "\n",
        "    # Verificar que las coordenadas estén dentro de los límites de la matriz 3x3\n",
        "    if i >= 0 and i < rows and j >= 0 and j < cols:\n",
        "        # Calcular el índice correspondiente en el array A\n",
        "        index = i * cols + j\n",
        "        # Obtener el elemento en la posición index del array A\n",
        "        return A[index]\n",
        "    else:\n",
        "        # Si las coordenadas están fuera de los límites, retornar None\n",
        "        return None\n",
        "\n",
        "def swap_rows(A, i, j):\n",
        "    \"\"\"\n",
        "    Intercambia los renglones i y j en la matriz representada como un array A\n",
        "    \"\"\"\n",
        "    cols = 3\n",
        "    i -= 1\n",
        "    j -= 1\n",
        "    for k in range(cols):\n",
        "        A[i * cols + k], A[j * cols + k] = A[j * cols + k], A[i * cols + k]\n",
        "\n",
        "def scale_row(A, i, c):\n",
        "    \"\"\"\n",
        "    Multiplica el renglón i por la constante c en la matriz representada como un array A\n",
        "    \"\"\"\n",
        "    cols = 3\n",
        "    i -= 1\n",
        "    for j in range(cols):\n",
        "        A[i * cols + j] *= c\n",
        "\n",
        "def add_scaled_row(A, i, j, c):\n",
        "    \"\"\"\n",
        "    Agrega a cada elemento del renglón j un múltiplo del renglón i en la matriz representada como un array A\n",
        "    \"\"\"\n",
        "    cols = 3\n",
        "    for k in range(cols):\n",
        "        A[j * cols + k] += c * A[i * cols + k]\n",
        "\n",
        "# Ejemplo de uso\n",
        "A = array('f', [1, 2, 3, 4, 5, 6, 7, 8, 9])\n",
        "print(\"Matriz A antes de operaciones:\")\n",
        "for i in range(3):\n",
        "    for j in range(3):\n",
        "        print(elem(A, i + 1, j + 1), end=\" \")\n",
        "    print()\n",
        "\n",
        "# Realizar algunas operaciones elementales entre renglones\n",
        "#scale_row(A, 3, 2)  # Multiplicar el primer renglón por 2\n",
        "#add_scaled_row(A, 0, 2, -1)  # Restar el primer renglón al segundo\n",
        "swap_rows(A, 3, 2)  # Intercambiar el segundo y tercer renglón\n",
        "\n",
        "print(\"\\nMatriz A después de operaciones:\")\n",
        "for i in range(3):\n",
        "    for j in range(3):\n",
        "        print(elem(A, i + 1, j + 1), end=\" \")\n",
        "    print()\n",
        "\n",
        "A\n"
      ],
      "metadata": {
        "colab": {
          "base_uri": "https://localhost:8080/"
        },
        "id": "KHAnrnAG1m0D",
        "outputId": "b22b68c6-0f7b-4dbf-908e-804fe91cee17"
      },
      "execution_count": 27,
      "outputs": [
        {
          "output_type": "stream",
          "name": "stdout",
          "text": [
            "Matriz A antes de operaciones:\n",
            "1.0 2.0 3.0 \n",
            "4.0 5.0 6.0 \n",
            "7.0 8.0 9.0 \n",
            "\n",
            "Matriz A después de operaciones:\n",
            "1.0 2.0 3.0 \n",
            "7.0 8.0 9.0 \n",
            "4.0 5.0 6.0 \n"
          ]
        },
        {
          "output_type": "execute_result",
          "data": {
            "text/plain": [
              "array('f', [1.0, 2.0, 3.0, 7.0, 8.0, 9.0, 4.0, 5.0, 6.0])"
            ]
          },
          "metadata": {},
          "execution_count": 27
        }
      ]
    }
  ]
}